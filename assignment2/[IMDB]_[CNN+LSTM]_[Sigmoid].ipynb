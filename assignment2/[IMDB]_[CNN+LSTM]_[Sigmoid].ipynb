{
 "cells": [
  {
   "cell_type": "markdown",
   "metadata": {},
   "source": [
    "IMDB란 영화리뷰에서, 긍정과 부정이 있는데 이 값을 한쌍의 데이터 값으로 만든 것이다. 50000개 중 25000개를 트레이닝, 나머지 25000개는 테스팅 샘플이다. 긍정 or 부정이라는 이진 특성을 갖고 있으므로, 바이너리 분류를 목적으로 한다.\n",
    "\n",
    "여기서는 가장 자주 사용되는 20000개의 단어만 포함했다."
   ]
  },
  {
   "cell_type": "code",
   "execution_count": 1,
   "metadata": {},
   "outputs": [
    {
     "name": "stderr",
     "output_type": "stream",
     "text": [
      "Using TensorFlow backend.\n"
     ]
    }
   ],
   "source": [
    "from keras.datasets import imdb\n",
    "\n",
    "(x_train, y_train), (x_test, y_test) = imdb.load_data(num_words=20000)"
   ]
  },
  {
   "cell_type": "markdown",
   "metadata": {},
   "source": [
    "25000개의 트레이닝 샘플을, 20000 / 5000으로 쪼개 각각 트레이닝샘플/트레이닝 이후 테스트 샘플로 나누었다."
   ]
  },
  {
   "cell_type": "code",
   "execution_count": 2,
   "metadata": {},
   "outputs": [],
   "source": [
    "x_val = x_train[20000:]\n",
    "y_val = y_train[20000:]\n",
    "x_train = x_train[:20000]\n",
    "y_train = y_train[:20000]"
   ]
  },
  {
   "cell_type": "markdown",
   "metadata": {},
   "source": [
    "밑에서 사용되는 sequence.pad_sequences는, 하나의 리뷰 샘플의 크기를 200이라는 일정한 크기로 맞춰주기 위해 사용하였다."
   ]
  },
  {
   "cell_type": "code",
   "execution_count": 3,
   "metadata": {},
   "outputs": [],
   "source": [
    "from keras.preprocessing import sequence\n",
    "\n",
    "x_train = sequence.pad_sequences(x_train, maxlen=200)\n",
    "x_val = sequence.pad_sequences(x_val, maxlen=200)\n",
    "x_test = sequence.pad_sequences(x_test, maxlen=200)"
   ]
  },
  {
   "cell_type": "markdown",
   "metadata": {},
   "source": [
    "임베딩을 통해 단어간의 연관성을 파악한 벡터가 만들어지기 때문에 훈련하는데 도움이 된다.\n",
    "\n",
    "LSTM은, long short term memory의 약자이다. 이건 RNN 신경망에서 변형된 형태이다. RNN에서는 훈련이 길어지면, 가중치를 계속 곱하게 되고, 이렇게 되면 결국 0에 가까운 값이 나오기 때문에, 훈련이 잘 되지 않는다. 때문에 LSTM에서는 누적해서 추가하기 보다는, 새로운 input을 보고 기억 데이터의 일부를 삭제한다고 한다.....\n",
    "\n",
    "sigmoid함수는 지금 이진 분류를 하기 때문에 사용했다.\n",
    "\n",
    "dropout은 과대적합을 방지하기 위해 추가한 층이다.\n",
    "\n",
    "Conv1D은 2차원에서도 쓰이지만, 1차원에서도 쓰일 수 있다. RNN보다는 계산 비용이 더 적게 들고 다양한 패턴을 인식할 수 있다. 하지만 연산량이 많아지는 문제점이 있다.\n",
    "\n",
    "Pooling은 벡터의 특징적인 값 하나를 추출하는 과정이다. 이를 통해 과대적합을 해결하는데 많은 기여를 할 수 있다. GlobalMaxPooling은 가장 큰 특징적인 값을 가져오는 pooling이다.\n",
    "\n",
    "CNN+ RNN\n",
    "RNN보다 CNN이 연산량이 적다. 또한 CNN을 통한 학습은 데이터의 특징값들을 효과적으로 추출해낼 수 있다. 하지만, RNN으로는 많은 양으로 학습하기에는 무리가 많다. 때문에, CNN을 통해 먼저 데이터의 특징값들을 효과적으로 추출한 다음, 이 값들을 RNN으로 학습한다. 이렇게 하면 데이터 크기도 줄기 때문에 RNN에서 효과적으로 연산을 할 수 있고, 그 결과 연산 속도와 예측 정확도를 높일 수 있다."
   ]
  },
  {
   "cell_type": "code",
   "execution_count": 4,
   "metadata": {},
   "outputs": [
    {
     "name": "stdout",
     "output_type": "stream",
     "text": [
      "WARNING:tensorflow:From C:\\Users\\qudwn\\Anaconda3\\lib\\site-packages\\tensorflow\\python\\framework\\op_def_library.py:263: colocate_with (from tensorflow.python.framework.ops) is deprecated and will be removed in a future version.\n",
      "Instructions for updating:\n",
      "Colocations handled automatically by placer.\n",
      "WARNING:tensorflow:From C:\\Users\\qudwn\\Anaconda3\\lib\\site-packages\\keras\\backend\\tensorflow_backend.py:3445: calling dropout (from tensorflow.python.ops.nn_ops) with keep_prob is deprecated and will be removed in a future version.\n",
      "Instructions for updating:\n",
      "Please use `rate` instead of `keep_prob`. Rate should be set to `rate = 1 - keep_prob`.\n"
     ]
    }
   ],
   "source": [
    "from keras.models import Sequential\n",
    "from keras.layers import Dense, Embedding, LSTM\n",
    "from keras.layers import Dropout\n",
    "from keras.layers import Conv1D, MaxPooling1D\n",
    "\n",
    "model = Sequential()\n",
    "model.add(Embedding(20000, 128, input_length=200))\n",
    "model.add(Dropout(0.2))\n",
    "model.add(Conv1D(256,\n",
    "                 3,\n",
    "                 padding='valid',\n",
    "                 activation='relu',\n",
    "                 strides=1))\n",
    "model.add(MaxPooling1D(pool_size=4))\n",
    "model.add(LSTM(128))\n",
    "model.add(Dense(1, activation='sigmoid'))"
   ]
  },
  {
   "cell_type": "code",
   "execution_count": 5,
   "metadata": {},
   "outputs": [
    {
     "name": "stdout",
     "output_type": "stream",
     "text": [
      "_________________________________________________________________\n",
      "Layer (type)                 Output Shape              Param #   \n",
      "=================================================================\n",
      "embedding_1 (Embedding)      (None, 200, 128)          2560000   \n",
      "_________________________________________________________________\n",
      "dropout_1 (Dropout)          (None, 200, 128)          0         \n",
      "_________________________________________________________________\n",
      "conv1d_1 (Conv1D)            (None, 198, 256)          98560     \n",
      "_________________________________________________________________\n",
      "max_pooling1d_1 (MaxPooling1 (None, 49, 256)           0         \n",
      "_________________________________________________________________\n",
      "lstm_1 (LSTM)                (None, 128)               197120    \n",
      "_________________________________________________________________\n",
      "dense_1 (Dense)              (None, 1)                 129       \n",
      "=================================================================\n",
      "Total params: 2,855,809\n",
      "Trainable params: 2,855,809\n",
      "Non-trainable params: 0\n",
      "_________________________________________________________________\n"
     ]
    }
   ],
   "source": [
    "model.compile(loss='binary_crossentropy', optimizer='adam', metrics=['accuracy'])\n",
    "\n",
    "model.summary()"
   ]
  },
  {
   "cell_type": "code",
   "execution_count": 6,
   "metadata": {
    "scrolled": false
   },
   "outputs": [
    {
     "name": "stdout",
     "output_type": "stream",
     "text": [
      "WARNING:tensorflow:From C:\\Users\\qudwn\\Anaconda3\\lib\\site-packages\\tensorflow\\python\\ops\\math_ops.py:3066: to_int32 (from tensorflow.python.ops.math_ops) is deprecated and will be removed in a future version.\n",
      "Instructions for updating:\n",
      "Use tf.cast instead.\n",
      "Train on 20000 samples, validate on 5000 samples\n",
      "Epoch 1/25\n",
      "20000/20000 [==============================] - 117s 6ms/step - loss: 0.4029 - acc: 0.8007 - val_loss: 0.3039 - val_acc: 0.8756\n",
      "Epoch 2/25\n",
      "20000/20000 [==============================] - 114s 6ms/step - loss: 0.1881 - acc: 0.9294 - val_loss: 0.3495 - val_acc: 0.8540\n",
      "Epoch 3/25\n",
      "20000/20000 [==============================] - 126s 6ms/step - loss: 0.0943 - acc: 0.9679 - val_loss: 0.3987 - val_acc: 0.8624\n",
      "Epoch 4/25\n",
      "20000/20000 [==============================] - 132s 7ms/step - loss: 0.0480 - acc: 0.9856 - val_loss: 0.5388 - val_acc: 0.8624\n",
      "Epoch 5/25\n",
      "20000/20000 [==============================] - 127s 6ms/step - loss: 0.0345 - acc: 0.9890 - val_loss: 0.5579 - val_acc: 0.8558\n",
      "Epoch 6/25\n",
      "20000/20000 [==============================] - 127s 6ms/step - loss: 0.0317 - acc: 0.9891 - val_loss: 0.5916 - val_acc: 0.8604\n",
      "Epoch 7/25\n",
      "20000/20000 [==============================] - 130s 7ms/step - loss: 0.0175 - acc: 0.9949 - val_loss: 0.6027 - val_acc: 0.8590\n",
      "Epoch 8/25\n",
      "20000/20000 [==============================] - 128s 6ms/step - loss: 0.0103 - acc: 0.9967 - val_loss: 0.7477 - val_acc: 0.8578\n",
      "Epoch 9/25\n",
      "20000/20000 [==============================] - 126s 6ms/step - loss: 0.0138 - acc: 0.9955 - val_loss: 0.7712 - val_acc: 0.8560\n",
      "Epoch 10/25\n",
      "20000/20000 [==============================] - 126s 6ms/step - loss: 0.0060 - acc: 0.9984 - val_loss: 0.8907 - val_acc: 0.8468\n",
      "Epoch 11/25\n",
      "20000/20000 [==============================] - 132s 7ms/step - loss: 0.0051 - acc: 0.9986 - val_loss: 0.9910 - val_acc: 0.8512\n",
      "Epoch 12/25\n",
      "20000/20000 [==============================] - 128s 6ms/step - loss: 0.0206 - acc: 0.9928 - val_loss: 0.7958 - val_acc: 0.8542\n",
      "Epoch 13/25\n",
      "20000/20000 [==============================] - 115s 6ms/step - loss: 0.0064 - acc: 0.9979 - val_loss: 0.7996 - val_acc: 0.8566\n",
      "Epoch 14/25\n",
      "20000/20000 [==============================] - 119s 6ms/step - loss: 0.0045 - acc: 0.9983 - val_loss: 1.0057 - val_acc: 0.8554\n",
      "Epoch 15/25\n",
      "20000/20000 [==============================] - 122s 6ms/step - loss: 0.0110 - acc: 0.9966 - val_loss: 0.7530 - val_acc: 0.8548\n",
      "Epoch 16/25\n",
      "20000/20000 [==============================] - 111s 6ms/step - loss: 0.0063 - acc: 0.9979 - val_loss: 0.7867 - val_acc: 0.8570\n",
      "Epoch 17/25\n",
      "20000/20000 [==============================] - 111s 6ms/step - loss: 0.0019 - acc: 0.9995 - val_loss: 1.0003 - val_acc: 0.8502\n",
      "Epoch 18/25\n",
      "20000/20000 [==============================] - 116s 6ms/step - loss: 0.0034 - acc: 0.9988 - val_loss: 0.9440 - val_acc: 0.8572\n",
      "Epoch 19/25\n",
      "20000/20000 [==============================] - 116s 6ms/step - loss: 0.0040 - acc: 0.9987 - val_loss: 0.9474 - val_acc: 0.8550\n",
      "Epoch 20/25\n",
      "20000/20000 [==============================] - 111s 6ms/step - loss: 0.0052 - acc: 0.9984 - val_loss: 0.8705 - val_acc: 0.8510\n",
      "Epoch 21/25\n",
      "20000/20000 [==============================] - 110s 5ms/step - loss: 0.0064 - acc: 0.9978 - val_loss: 0.9243 - val_acc: 0.8554\n",
      "Epoch 22/25\n",
      "20000/20000 [==============================] - 111s 6ms/step - loss: 0.0045 - acc: 0.9985 - val_loss: 0.8970 - val_acc: 0.8468\n",
      "Epoch 23/25\n",
      "20000/20000 [==============================] - 111s 6ms/step - loss: 0.0023 - acc: 0.9991 - val_loss: 1.0725 - val_acc: 0.8516\n",
      "Epoch 24/25\n",
      "20000/20000 [==============================] - 112s 6ms/step - loss: 0.0077 - acc: 0.9977 - val_loss: 0.8021 - val_acc: 0.8542\n",
      "Epoch 25/25\n",
      "20000/20000 [==============================] - 121s 6ms/step - loss: 0.0012 - acc: 0.9997 - val_loss: 0.9752 - val_acc: 0.8570\n"
     ]
    }
   ],
   "source": [
    "hist = model.fit(x_train, y_train, epochs=25, batch_size=64, validation_data=(x_val, y_val))"
   ]
  },
  {
   "cell_type": "code",
   "execution_count": 9,
   "metadata": {},
   "outputs": [
    {
     "data": {
      "image/png": "[encoded data removed]",
      "text/plain": [
       "<Figure size 432x288 with 1 Axes>"
      ]
     },
     "metadata": {
      "needs_background": "light"
     },
     "output_type": "display_data"
    }
   ],
   "source": [
    "import matplotlib.pyplot as plt\n",
    "\n",
    "hist_dict=hist.history\n",
    "loss=hist_dict['loss']\n",
    "val_loss=hist_dict['val_loss']\n",
    "\n",
    "epochs=range(1,26)\n",
    "\n",
    "plt.plot(epochs, loss, 'bo', label='Trainig Loss')\n",
    "plt.plot(epochs, val_loss, 'b', label='Validation Loss')\n",
    "plt.title(\"Training and Validation Loss\")\n",
    "plt.xlabel('Epochs')\n",
    "plt.ylabel('Loss')\n",
    "\n",
    "plt.legend()\n",
    "\n",
    "plt.show();"
   ]
  },
  {
   "cell_type": "code",
   "execution_count": 12,
   "metadata": {},
   "outputs": [
    {
     "data": {
      "image/png": "[encoded data removed]",
      "text/plain": [
       "<Figure size 432x288 with 1 Axes>"
      ]
     },
     "metadata": {
      "needs_background": "light"
     },
     "output_type": "display_data"
    }
   ],
   "source": [
    "plt.clf()\n",
    "\n",
    "acc=hist_dict['acc']\n",
    "val_acc=hist_dict['val_acc']\n",
    "\n",
    "epochs=range(1,26)\n",
    "\n",
    "plt.plot(epochs, acc, 'bo', label='Trainig Accuracy')\n",
    "plt.plot(epochs, val_acc, 'b', label='Validation Accuracy')\n",
    "plt.title(\"Training and Validation Accuracy\")\n",
    "plt.xlabel('Epochs')\n",
    "plt.ylabel('Accuracy')\n",
    "\n",
    "plt.legend()\n",
    "\n",
    "plt.show();"
   ]
  },
  {
   "cell_type": "code",
   "execution_count": 11,
   "metadata": {},
   "outputs": [
    {
     "name": "stdout",
     "output_type": "stream",
     "text": [
      "25000/25000 [==============================] - 51s 2ms/step\n"
     ]
    }
   ],
   "source": [
    "result=model.evaluate(x_test, y_test)"
   ]
  },
  {
   "cell_type": "code",
   "execution_count": 13,
   "metadata": {},
   "outputs": [
    {
     "name": "stdout",
     "output_type": "stream",
     "text": [
      "1.1053071585449576\n"
     ]
    }
   ],
   "source": [
    "print(result[0])"
   ]
  },
  {
   "cell_type": "code",
   "execution_count": 14,
   "metadata": {},
   "outputs": [
    {
     "name": "stdout",
     "output_type": "stream",
     "text": [
      "0.83796\n"
     ]
    }
   ],
   "source": [
    "print(result[1])"
   ]
  }
 ],
 "metadata": {
  "kernelspec": {
   "display_name": "Python 3",
   "language": "python",
   "name": "python3"
  },
  "language_info": {
   "codemirror_mode": {
    "name": "ipython",
    "version": 3
   },
   "file_extension": ".py",
   "mimetype": "text/x-python",
   "name": "python",
   "nbconvert_exporter": "python",
   "pygments_lexer": "ipython3",
   "version": "3.7.3"
  }
 },
 "nbformat": 4,
 "nbformat_minor": 2
}
