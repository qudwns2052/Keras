{
 "cells": [
  {
   "cell_type": "markdown",
   "metadata": {},
   "source": [
    "이 데이터는 전 문제와 같이 참 거짓으로 나뉘는게 아니라, 46개의 카테고리로 나뉨\n",
    "각 카테고리에는 최소한 10개 이상의 데이터가 있음\n",
    "결국, 데이터를 넣으면 이게 어느 카테고리에 속하는지 맞추는 문제임"
   ]
  },
  {
   "cell_type": "code",
   "execution_count": 2,
   "metadata": {},
   "outputs": [
    {
     "name": "stderr",
     "output_type": "stream",
     "text": [
      "Using TensorFlow backend.\n"
     ]
    }
   ],
   "source": [
    "from keras.datasets import reuters\n",
    "\n",
    "(train_data, train_labels), (test_data, test_labels) = reuters.load_data(num_words=10000)"
   ]
  },
  {
   "cell_type": "markdown",
   "metadata": {},
   "source": [
    "아래는 원핫 인코딩을 통해 0과 1로만 이루어진 벡터로 변환함\n",
    "결국, 데이터의 길이가 다 다르니까 벡터의 크기를 10000으로 고정시켜줌"
   ]
  },
  {
   "cell_type": "code",
   "execution_count": 3,
   "metadata": {},
   "outputs": [],
   "source": [
    "import numpy as np\n",
    "\n",
    "def vectorize_sequences(sequences, dimension=10000) :\n",
    "    results = np.zeros((len(sequences), dimension))\n",
    "    for i, sequence in enumerate(sequences):\n",
    "        results[i, sequence] = 1.\n",
    "    return results\n",
    "\n",
    "x_train = vectorize_sequences(train_data)\n",
    "x_test = vectorize_sequences(test_data)"
   ]
  },
  {
   "cell_type": "code",
   "execution_count": 4,
   "metadata": {},
   "outputs": [],
   "source": [
    "def to_one_hot(labels, dimension=46):\n",
    "    results = np.zeros((len(labels), dimension))\n",
    "    for i, label in enumerate(labels):\n",
    "        results[i, label] = 1.\n",
    "    return results\n",
    "\n",
    "one_hot_train_labels = to_one_hot(train_labels)\n",
    "one_hot_test_labels = to_one_hot(test_labels)"
   ]
  },
  {
   "cell_type": "markdown",
   "metadata": {},
   "source": [
    "from keras.utils.np_utils import to_categorical\n",
    "\n",
    "one_hot_rain_labels = to_categorical(train_labels)\n",
    "one_hot_test_labels = to_categorical(test_labels)"
   ]
  },
  {
   "cell_type": "markdown",
   "metadata": {},
   "source": [
    "형식을 맞췄으니, 모델을 만듦\n",
    "앞에서는 16개의 은닉 유닛을 가지고 특성을 뽑았지만, 이것은 카테고리가 46개의 카테고리에 분류를 해야 하는데, 이보다 작거나 같으면 분류하기 힘드므로, 46보다 큰 64로 은닉 유닛을 잡음\n",
    "softmax는 categorical로 분류할 때 사용됨"
   ]
  },
  {
   "cell_type": "code",
   "execution_count": 5,
   "metadata": {},
   "outputs": [
    {
     "name": "stdout",
     "output_type": "stream",
     "text": [
      "WARNING:tensorflow:From C:\\Users\\qudwn\\Anaconda3\\lib\\site-packages\\tensorflow\\python\\framework\\op_def_library.py:263: colocate_with (from tensorflow.python.framework.ops) is deprecated and will be removed in a future version.\n",
      "Instructions for updating:\n",
      "Colocations handled automatically by placer.\n"
     ]
    }
   ],
   "source": [
    "from keras import models\n",
    "from keras import layers\n",
    "\n",
    "model = models.Sequential()\n",
    "model.add(layers.Dense(64, activation='relu', input_shape=(10000,)))\n",
    "model.add(layers.Dense(64, activation='relu'))\n",
    "model.add(layers.Dense(46, activation='softmax'))"
   ]
  },
  {
   "cell_type": "code",
   "execution_count": 6,
   "metadata": {},
   "outputs": [],
   "source": [
    "model.compile(optimizer='rmsprop', loss='categorical_crossentropy', metrics=['accuracy'])"
   ]
  },
  {
   "cell_type": "markdown",
   "metadata": {},
   "source": [
    "아래의 코드는, 전 문제와 같이, 훈련 중에 테스트를 할 수 있도록 x_val, y_val을 빼놓음"
   ]
  },
  {
   "cell_type": "code",
   "execution_count": 7,
   "metadata": {},
   "outputs": [],
   "source": [
    "x_val = x_train[:1000]\n",
    "partial_x_train = x_train[1000:]\n",
    "\n",
    "y_val = one_hot_train_labels[:1000]\n",
    "partial_y_train = one_hot_train_labels[1000:]"
   ]
  },
  {
   "cell_type": "code",
   "execution_count": 8,
   "metadata": {},
   "outputs": [
    {
     "name": "stdout",
     "output_type": "stream",
     "text": [
      "WARNING:tensorflow:From C:\\Users\\qudwn\\Anaconda3\\lib\\site-packages\\tensorflow\\python\\ops\\math_ops.py:3066: to_int32 (from tensorflow.python.ops.math_ops) is deprecated and will be removed in a future version.\n",
      "Instructions for updating:\n",
      "Use tf.cast instead.\n",
      "Train on 7982 samples, validate on 1000 samples\n",
      "Epoch 1/20\n",
      "7982/7982 [==============================] - 2s 263us/step - loss: 2.5327 - acc: 0.4957 - val_loss: 1.7229 - val_acc: 0.6120\n",
      "Epoch 2/20\n",
      "7982/7982 [==============================] - 1s 173us/step - loss: 1.4486 - acc: 0.6873 - val_loss: 1.3485 - val_acc: 0.7070\n",
      "Epoch 3/20\n",
      "7982/7982 [==============================] - 1s 172us/step - loss: 1.0983 - acc: 0.7642 - val_loss: 1.1728 - val_acc: 0.7420\n",
      "Epoch 4/20\n",
      "7982/7982 [==============================] - 1s 171us/step - loss: 0.8724 - acc: 0.8148 - val_loss: 1.0794 - val_acc: 0.7590\n",
      "Epoch 5/20\n",
      "7982/7982 [==============================] - 1s 169us/step - loss: 0.7058 - acc: 0.8479 - val_loss: 0.9858 - val_acc: 0.7770\n",
      "Epoch 6/20\n",
      "7982/7982 [==============================] - 1s 170us/step - loss: 0.5695 - acc: 0.8786 - val_loss: 0.9422 - val_acc: 0.8030\n",
      "Epoch 7/20\n",
      "7982/7982 [==============================] - 1s 170us/step - loss: 0.4622 - acc: 0.9025 - val_loss: 0.9094 - val_acc: 0.8010\n",
      "Epoch 8/20\n",
      "7982/7982 [==============================] - 1s 171us/step - loss: 0.3732 - acc: 0.9219 - val_loss: 0.9378 - val_acc: 0.7890\n",
      "Epoch 9/20\n",
      "7982/7982 [==============================] - 1s 170us/step - loss: 0.3059 - acc: 0.9306 - val_loss: 0.8922 - val_acc: 0.8060\n",
      "Epoch 10/20\n",
      "7982/7982 [==============================] - 1s 171us/step - loss: 0.2557 - acc: 0.9410 - val_loss: 0.9074 - val_acc: 0.8130\n",
      "Epoch 11/20\n",
      "7982/7982 [==============================] - 1s 170us/step - loss: 0.2194 - acc: 0.9473 - val_loss: 0.9201 - val_acc: 0.8120\n",
      "Epoch 12/20\n",
      "7982/7982 [==============================] - 1s 175us/step - loss: 0.1881 - acc: 0.9504 - val_loss: 0.9062 - val_acc: 0.8140\n",
      "Epoch 13/20\n",
      "7982/7982 [==============================] - 1s 178us/step - loss: 0.1703 - acc: 0.9521 - val_loss: 0.9369 - val_acc: 0.8110\n",
      "Epoch 14/20\n",
      "7982/7982 [==============================] - 1s 168us/step - loss: 0.1537 - acc: 0.9550 - val_loss: 0.9693 - val_acc: 0.8040\n",
      "Epoch 15/20\n",
      "7982/7982 [==============================] - 1s 169us/step - loss: 0.1393 - acc: 0.9562 - val_loss: 0.9695 - val_acc: 0.8140\n",
      "Epoch 16/20\n",
      "7982/7982 [==============================] - 1s 175us/step - loss: 0.1310 - acc: 0.9560 - val_loss: 1.0257 - val_acc: 0.8040\n",
      "Epoch 17/20\n",
      "7982/7982 [==============================] - 1s 172us/step - loss: 0.1215 - acc: 0.9578 - val_loss: 1.0286 - val_acc: 0.7990\n",
      "Epoch 18/20\n",
      "7982/7982 [==============================] - 1s 173us/step - loss: 0.1195 - acc: 0.9578 - val_loss: 1.0476 - val_acc: 0.8050\n",
      "Epoch 19/20\n",
      "7982/7982 [==============================] - 1s 174us/step - loss: 0.1138 - acc: 0.9598 - val_loss: 1.0998 - val_acc: 0.7980\n",
      "Epoch 20/20\n",
      "7982/7982 [==============================] - 1s 169us/step - loss: 0.1106 - acc: 0.9598 - val_loss: 1.0722 - val_acc: 0.8020\n"
     ]
    }
   ],
   "source": [
    "history = model.fit(partial_x_train,\n",
    "                   partial_y_train,\n",
    "                   epochs=20,\n",
    "                   batch_size=512,\n",
    "                   validation_data=(x_val, y_val))"
   ]
  },
  {
   "cell_type": "code",
   "execution_count": 9,
   "metadata": {},
   "outputs": [
    {
     "data": {
      "text/plain": [
       "<Figure size 640x480 with 1 Axes>"
      ]
     },
     "metadata": {},
     "output_type": "display_data"
    }
   ],
   "source": [
    "import matplotlib.pyplot as plt\n",
    "\n",
    "loss = history.history['loss']\n",
    "val_loss = history.history['val_loss']\n",
    "\n",
    "epochs = range(1, len(loss) + 1)\n",
    "\n",
    "plt.plot(epochs, loss, 'bo', label='Training loss')\n",
    "plt.plot(epochs, val_loss, 'b', label='Validation loss')\n",
    "plt.title('Traning and validation loss')\n",
    "plt.xlabel('Epochs')\n",
    "plt.ylabel('Loss')\n",
    "plt.legend()\n",
    "\n",
    "plt.show()"
   ]
  },
  {
   "cell_type": "code",
   "execution_count": 10,
   "metadata": {},
   "outputs": [
    {
     "data": {
      "image/png": "[encoded data removed]",
      "text/plain": [
       "<Figure size 432x288 with 1 Axes>"
      ]
     },
     "metadata": {
      "needs_background": "light"
     },
     "output_type": "display_data"
    }
   ],
   "source": [
    "plt.clf()\n",
    "\n",
    "acc = history.history['acc']\n",
    "val_acc = history.history['val_acc']\n",
    "\n",
    "plt.plot(epochs, acc, 'bo', label = 'Training acc')\n",
    "plt.plot(epochs, val_acc, 'b', label = 'Validation acc')\n",
    "plt.title('Training and validation accuracy')\n",
    "plt.xlabel('Epochs')\n",
    "plt.ylabel('Accuracy')\n",
    "plt.legend()\n",
    "\n",
    "plt.show()"
   ]
  },
  {
   "cell_type": "markdown",
   "metadata": {},
   "source": [
    "epoch가 9정도 되었을 때, 오버피팅이 되므로, epoch를 재설정해봄"
   ]
  },
  {
   "cell_type": "code",
   "execution_count": 11,
   "metadata": {},
   "outputs": [
    {
     "name": "stdout",
     "output_type": "stream",
     "text": [
      "Train on 7982 samples, validate on 1000 samples\n",
      "Epoch 1/9\n",
      "7982/7982 [==============================] - 2s 220us/step - loss: 2.5398 - acc: 0.5226 - val_loss: 1.6733 - val_acc: 0.6560\n",
      "Epoch 2/9\n",
      "7982/7982 [==============================] - 1s 172us/step - loss: 1.3714 - acc: 0.7121 - val_loss: 1.2772 - val_acc: 0.7200\n",
      "Epoch 3/9\n",
      "7982/7982 [==============================] - 1s 174us/step - loss: 1.0152 - acc: 0.7794 - val_loss: 1.1317 - val_acc: 0.7510\n",
      "Epoch 4/9\n",
      "7982/7982 [==============================] - 1s 173us/step - loss: 0.7997 - acc: 0.8252 - val_loss: 1.0545 - val_acc: 0.7610\n",
      "Epoch 5/9\n",
      "7982/7982 [==============================] - 1s 173us/step - loss: 0.6409 - acc: 0.8621 - val_loss: 0.9752 - val_acc: 0.7950\n",
      "Epoch 6/9\n",
      "7982/7982 [==============================] - 1s 173us/step - loss: 0.5121 - acc: 0.8921 - val_loss: 0.9093 - val_acc: 0.8120\n",
      "Epoch 7/9\n",
      "7982/7982 [==============================] - 1s 173us/step - loss: 0.4112 - acc: 0.9147 - val_loss: 0.8917 - val_acc: 0.8210\n",
      "Epoch 8/9\n",
      "7982/7982 [==============================] - 1s 177us/step - loss: 0.3347 - acc: 0.9288 - val_loss: 0.8731 - val_acc: 0.8290\n",
      "Epoch 9/9\n",
      "7982/7982 [==============================] - 1s 176us/step - loss: 0.2775 - acc: 0.9369 - val_loss: 0.9379 - val_acc: 0.8020\n",
      "2246/2246 [==============================] - 0s 204us/step\n"
     ]
    }
   ],
   "source": [
    "from keras import models\n",
    "from keras import layers\n",
    "\n",
    "model = models.Sequential()\n",
    "model.add(layers.Dense(64, activation='relu', input_shape=(10000,)))\n",
    "model.add(layers.Dense(64, activation='relu'))\n",
    "model.add(layers.Dense(46, activation='softmax'))\n",
    "\n",
    "model.compile(optimizer='rmsprop', loss='categorical_crossentropy', metrics=['accuracy'])\n",
    "model.fit(partial_x_train,\n",
    "         partial_y_train,\n",
    "         epochs=9,\n",
    "         batch_size=512,\n",
    "         validation_data=(x_val, y_val))\n",
    "results = model.evaluate(x_test, one_hot_test_labels)"
   ]
  },
  {
   "cell_type": "code",
   "execution_count": 12,
   "metadata": {},
   "outputs": [
    {
     "data": {
      "text/plain": [
       "[1.0259320519380237, 0.7751558326443496]"
      ]
     },
     "execution_count": 12,
     "metadata": {},
     "output_type": "execute_result"
    }
   ],
   "source": [
    "results"
   ]
  },
  {
   "cell_type": "markdown",
   "metadata": {},
   "source": [
    "epoch를 9로 줄이니, 정확도가 77퍼정도 나왔음\n",
    "\n",
    "이 아래의 코드는 2번째 층에서 은닉 유닛이 지나치게 작으면 어떻게 되는지, 시행을 함"
   ]
  },
  {
   "cell_type": "code",
   "execution_count": 14,
   "metadata": {},
   "outputs": [
    {
     "name": "stdout",
     "output_type": "stream",
     "text": [
      "Train on 7982 samples, validate on 1000 samples\n",
      "Epoch 1/20\n",
      "7982/7982 [==============================] - 2s 267us/step - loss: 3.1603 - acc: 0.2413 - val_loss: 2.6048 - val_acc: 0.2750\n",
      "Epoch 2/20\n",
      "7982/7982 [==============================] - 2s 214us/step - loss: 2.0501 - acc: 0.5452 - val_loss: 1.7005 - val_acc: 0.5840\n",
      "Epoch 3/20\n",
      "7982/7982 [==============================] - 2s 215us/step - loss: 1.5010 - acc: 0.6229 - val_loss: 1.5110 - val_acc: 0.6410\n",
      "Epoch 4/20\n",
      "7982/7982 [==============================] - 2s 218us/step - loss: 1.2885 - acc: 0.6926 - val_loss: 1.4135 - val_acc: 0.6750\n",
      "Epoch 5/20\n",
      "7982/7982 [==============================] - 2s 214us/step - loss: 1.1460 - acc: 0.7167 - val_loss: 1.3628 - val_acc: 0.6820\n",
      "Epoch 6/20\n",
      "7982/7982 [==============================] - 2s 222us/step - loss: 1.0406 - acc: 0.7304 - val_loss: 1.3428 - val_acc: 0.6940\n",
      "Epoch 7/20\n",
      "7982/7982 [==============================] - 2s 230us/step - loss: 0.9576 - acc: 0.7410 - val_loss: 1.3379 - val_acc: 0.6980\n",
      "Epoch 8/20\n",
      "7982/7982 [==============================] - 2s 250us/step - loss: 0.8882 - acc: 0.7536 - val_loss: 1.3325 - val_acc: 0.7020\n",
      "Epoch 9/20\n",
      "7982/7982 [==============================] - 2s 232us/step - loss: 0.8250 - acc: 0.7696 - val_loss: 1.3563 - val_acc: 0.7080\n",
      "Epoch 10/20\n",
      "7982/7982 [==============================] - 2s 232us/step - loss: 0.7630 - acc: 0.7912 - val_loss: 1.3654 - val_acc: 0.7090\n",
      "Epoch 11/20\n",
      "7982/7982 [==============================] - 2s 242us/step - loss: 0.7083 - acc: 0.8082 - val_loss: 1.3961 - val_acc: 0.7130\n",
      "Epoch 12/20\n",
      "7982/7982 [==============================] - 2s 229us/step - loss: 0.6628 - acc: 0.8186 - val_loss: 1.3989 - val_acc: 0.7210\n",
      "Epoch 13/20\n",
      "7982/7982 [==============================] - 2s 233us/step - loss: 0.6198 - acc: 0.8306 - val_loss: 1.4539 - val_acc: 0.7120\n",
      "Epoch 14/20\n",
      "7982/7982 [==============================] - 2s 234us/step - loss: 0.5829 - acc: 0.8369 - val_loss: 1.4736 - val_acc: 0.7160\n",
      "Epoch 15/20\n",
      "7982/7982 [==============================] - 2s 235us/step - loss: 0.5502 - acc: 0.8475 - val_loss: 1.5081 - val_acc: 0.7190\n",
      "Epoch 16/20\n",
      "7982/7982 [==============================] - 2s 228us/step - loss: 0.5203 - acc: 0.8558 - val_loss: 1.5486 - val_acc: 0.7180\n",
      "Epoch 17/20\n",
      "7982/7982 [==============================] - 2s 246us/step - loss: 0.4917 - acc: 0.8648 - val_loss: 1.5787 - val_acc: 0.7180\n",
      "Epoch 18/20\n",
      "7982/7982 [==============================] - 2s 225us/step - loss: 0.4678 - acc: 0.8789 - val_loss: 1.6473 - val_acc: 0.7170\n",
      "Epoch 19/20\n",
      "7982/7982 [==============================] - 2s 245us/step - loss: 0.4433 - acc: 0.8862 - val_loss: 1.6783 - val_acc: 0.7080\n",
      "Epoch 20/20\n",
      "7982/7982 [==============================] - 2s 230us/step - loss: 0.4247 - acc: 0.8899 - val_loss: 1.7396 - val_acc: 0.7160\n"
     ]
    },
    {
     "data": {
      "text/plain": [
       "<keras.callbacks.History at 0x1993e927e48>"
      ]
     },
     "execution_count": 14,
     "metadata": {},
     "output_type": "execute_result"
    }
   ],
   "source": [
    "from keras import models\n",
    "from keras import layers\n",
    "\n",
    "model = models.Sequential()\n",
    "model.add(layers.Dense(64, activation='relu', input_shape=(10000,)))\n",
    "model.add(layers.Dense(4, activation='relu'))\n",
    "model.add(layers.Dense(46, activation='softmax'))\n",
    "\n",
    "model.compile(optimizer='rmsprop', loss='categorical_crossentropy', metrics=['accuracy'])\n",
    "model.fit(partial_x_train,\n",
    "         partial_y_train,\n",
    "         epochs=20,\n",
    "         batch_size=128,\n",
    "         validation_data=(x_val, y_val))"
   ]
  },
  {
   "cell_type": "code",
   "execution_count": 15,
   "metadata": {},
   "outputs": [
    {
     "name": "stdout",
     "output_type": "stream",
     "text": [
      "2246/2246 [==============================] - 0s 176us/step\n"
     ]
    },
    {
     "data": {
      "text/plain": [
       "[1.9698866360546325, 0.6914514692787177]"
      ]
     },
     "execution_count": 15,
     "metadata": {},
     "output_type": "execute_result"
    }
   ],
   "source": [
    "results = model.evaluate(x_test, one_hot_test_labels)\n",
    "results"
   ]
  }
 ],
 "metadata": {
  "kernelspec": {
   "display_name": "Python 3",
   "language": "python",
   "name": "python3"
  },
  "language_info": {
   "codemirror_mode": {
    "name": "ipython",
    "version": 3
   },
   "file_extension": ".py",
   "mimetype": "text/x-python",
   "name": "python",
   "nbconvert_exporter": "python",
   "pygments_lexer": "ipython3",
   "version": "3.7.3"
  }
 },
 "nbformat": 4,
 "nbformat_minor": 2
}
