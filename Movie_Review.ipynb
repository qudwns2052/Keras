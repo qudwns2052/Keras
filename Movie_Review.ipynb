{
 "cells": [
  {
   "cell_type": "markdown",
   "metadata": {},
   "source": [
    "## 3.4 영화 리뷰 분류: 이진 분류 예제"
   ]
  },
  {
   "cell_type": "markdown",
   "metadata": {},
   "source": [
    "이 데이터셋은 자주 사용하는 10000개의 단어를 딕셔너리 형태로 가져옴.\n",
    "영화 리뷰 결과(labels)들이 0 혹은 1을 나타내는 긍정과 부정으로 구분되어 있음.\n"
   ]
  },
  {
   "cell_type": "code",
   "execution_count": 5,
   "metadata": {},
   "outputs": [
    {
     "name": "stderr",
     "output_type": "stream",
     "text": [
      "Using TensorFlow backend.\n"
     ]
    }
   ],
   "source": [
    "from keras.datasets import imdb\n",
    "\n",
    "(train_data, train_labels), (test_data, test_labels) = imdb.load_data(num_words=10000)"
   ]
  },
  {
   "cell_type": "markdown",
   "metadata": {},
   "source": [
    "아래의 코드는 원핫 인코딩을 통해, data 셋의 벡터 크기를 일정하게 맞춰줌"
   ]
  },
  {
   "cell_type": "code",
   "execution_count": 6,
   "metadata": {},
   "outputs": [],
   "source": [
    "import numpy as np\n",
    "\n",
    "def vectorize_sequences(sequences, dimension=10000):\n",
    "    results = np.zeros((len(sequences), dimension))\n",
    "    for i, sequence in enumerate(sequences):\n",
    "        results[i, sequence] = 1.\n",
    "    return results\n",
    "    \n",
    "x_train = vectorize_sequences(train_data)\n",
    "x_test = vectorize_sequences(test_data)\n",
    "y_train = np.asarray(train_labels).astype('float32')\n",
    "y_test = np.asarray(test_labels).astype('float32')"
   ]
  },
  {
   "cell_type": "markdown",
   "metadata": {},
   "source": [
    "아래의 코드는 모델을 만드는 과정임 relu 함수는, 음수를 없애는 선형 직선 모형임\n",
    "train 데이터의 현재 크기는 (25000, 10000)이고 이것이 input으로 사용됨\n",
    "sigmoid는, 0~1사이의 숫자로 반환을 해주는데, 이 문제는 참 거짓을 따지는 문제이므로 사용할 수 있음\n",
    "1, 2층의 은닉 유닛은 16인데, 특성을 16개를 뽑아냄\n",
    "만약 은닉 유닛이 너무 적으면, 특성을 제대로 뽑지 못하므로 안됨\n",
    "만약 은닉 유닛이 많으면, 불필요하게 특성이 많아지므로 이것도 안됨"
   ]
  },
  {
   "cell_type": "code",
   "execution_count": 3,
   "metadata": {},
   "outputs": [
    {
     "name": "stdout",
     "output_type": "stream",
     "text": [
      "WARNING:tensorflow:From C:\\Users\\qudwn\\Anaconda3\\lib\\site-packages\\tensorflow\\python\\framework\\op_def_library.py:263: colocate_with (from tensorflow.python.framework.ops) is deprecated and will be removed in a future version.\n",
      "Instructions for updating:\n",
      "Colocations handled automatically by placer.\n"
     ]
    }
   ],
   "source": [
    "from keras import models\n",
    "from keras import layers\n",
    "\n",
    "model = models.Sequential()\n",
    "model.add(layers.Dense(16, activation='relu', input_shape=(10000,)))\n",
    "model.add(layers.Dense(16, activation='relu'))\n",
    "model.add(layers.Dense(1, activation='sigmoid'))"
   ]
  },
  {
   "cell_type": "code",
   "execution_count": 4,
   "metadata": {},
   "outputs": [],
   "source": [
    "model.compile(optimizer='rmsprop',\n",
    "                loss='binary_crossentropy',\n",
    "                 metrics=['accuracy'])"
   ]
  },
  {
   "cell_type": "markdown",
   "metadata": {},
   "source": [
    "from keras import optimizers\n",
    "\n",
    "model.compile(optimizer=optimizers.RMSprop(lr=0.001),\n",
    "             loss='binary_crossentropy',\n",
    "             metrics=['accuracy'])"
   ]
  },
  {
   "cell_type": "markdown",
   "metadata": {},
   "source": [
    "from keras import losses\n",
    "from keras import metrics\n",
    "\n",
    "model.compile(optimizer=optimizers.RMSprop(lr=0.001),\n",
    "             loss=losses.binary_crossentropy,\n",
    "             metrics=[metrics.binary_accuracy])"
   ]
  },
  {
   "cell_type": "code",
   "execution_count": 5,
   "metadata": {},
   "outputs": [],
   "source": [
    "x_val = x_train[:10000]\n",
    "partial_x_train = x_train[10000:]\n",
    "y_val = y_train[:10000]\n",
    "partial_y_train = y_train[10000:]"
   ]
  },
  {
   "cell_type": "markdown",
   "metadata": {},
   "source": [
    "partial_x_train (15000)으로 훈련하고, 나머지 10000개는 훈련 중에 테스트 용으로 쓰임\n",
    "epoch는 훈련하는 루프 사이클 횟수를 말하고, batch_size는 잘 모르겠음..\n",
    "validation_data로 손실과 정확도를 뽑아낼 수 있음"
   ]
  },
  {
   "cell_type": "code",
   "execution_count": 6,
   "metadata": {},
   "outputs": [
    {
     "name": "stdout",
     "output_type": "stream",
     "text": [
      "WARNING:tensorflow:From C:\\Users\\qudwn\\Anaconda3\\lib\\site-packages\\tensorflow\\python\\ops\\math_ops.py:3066: to_int32 (from tensorflow.python.ops.math_ops) is deprecated and will be removed in a future version.\n",
      "Instructions for updating:\n",
      "Use tf.cast instead.\n",
      "Train on 15000 samples, validate on 10000 samples\n",
      "Epoch 1/20\n",
      "15000/15000 [==============================] - 4s 285us/step - loss: 0.5040 - acc: 0.7890 - val_loss: 0.3774 - val_acc: 0.8707\n",
      "Epoch 2/20\n",
      "15000/15000 [==============================] - 3s 226us/step - loss: 0.2990 - acc: 0.9045 - val_loss: 0.3003 - val_acc: 0.8905\n",
      "Epoch 3/20\n",
      "15000/15000 [==============================] - 3s 217us/step - loss: 0.2173 - acc: 0.9284 - val_loss: 0.3078 - val_acc: 0.8722\n",
      "Epoch 4/20\n",
      "15000/15000 [==============================] - 3s 217us/step - loss: 0.1748 - acc: 0.9436 - val_loss: 0.2823 - val_acc: 0.8849\n",
      "Epoch 5/20\n",
      "15000/15000 [==============================] - 3s 214us/step - loss: 0.1421 - acc: 0.9543 - val_loss: 0.2857 - val_acc: 0.8854\n",
      "Epoch 6/20\n",
      "15000/15000 [==============================] - 3s 220us/step - loss: 0.1148 - acc: 0.9650 - val_loss: 0.3150 - val_acc: 0.8779\n",
      "Epoch 7/20\n",
      "15000/15000 [==============================] - 3s 212us/step - loss: 0.0978 - acc: 0.9709 - val_loss: 0.3132 - val_acc: 0.8839\n",
      "Epoch 8/20\n",
      "15000/15000 [==============================] - 3s 216us/step - loss: 0.0806 - acc: 0.9764 - val_loss: 0.3867 - val_acc: 0.8653\n",
      "Epoch 9/20\n",
      "15000/15000 [==============================] - 3s 217us/step - loss: 0.0661 - acc: 0.9819 - val_loss: 0.3639 - val_acc: 0.8774\n",
      "Epoch 10/20\n",
      "15000/15000 [==============================] - 3s 224us/step - loss: 0.0563 - acc: 0.9845 - val_loss: 0.3855 - val_acc: 0.8796\n",
      "Epoch 11/20\n",
      "15000/15000 [==============================] - 3s 221us/step - loss: 0.0427 - acc: 0.9903 - val_loss: 0.4137 - val_acc: 0.8779\n",
      "Epoch 12/20\n",
      "15000/15000 [==============================] - 3s 223us/step - loss: 0.0376 - acc: 0.9921 - val_loss: 0.4614 - val_acc: 0.8681\n",
      "Epoch 13/20\n",
      "15000/15000 [==============================] - 3s 232us/step - loss: 0.0298 - acc: 0.9931 - val_loss: 0.4722 - val_acc: 0.8741\n",
      "Epoch 14/20\n",
      "15000/15000 [==============================] - 3s 231us/step - loss: 0.0249 - acc: 0.9945 - val_loss: 0.5065 - val_acc: 0.8728\n",
      "Epoch 15/20\n",
      "15000/15000 [==============================] - 4s 234us/step - loss: 0.0198 - acc: 0.9965 - val_loss: 0.5334 - val_acc: 0.8715\n",
      "Epoch 16/20\n",
      "15000/15000 [==============================] - 4s 234us/step - loss: 0.0148 - acc: 0.9980 - val_loss: 0.5708 - val_acc: 0.8685\n",
      "Epoch 17/20\n",
      "15000/15000 [==============================] - 4s 234us/step - loss: 0.0141 - acc: 0.9980 - val_loss: 0.6021 - val_acc: 0.8670\n",
      "Epoch 18/20\n",
      "15000/15000 [==============================] - 4s 235us/step - loss: 0.0100 - acc: 0.9989 - val_loss: 0.6330 - val_acc: 0.8672\n",
      "Epoch 19/20\n",
      "15000/15000 [==============================] - 3s 230us/step - loss: 0.0059 - acc: 0.9998 - val_loss: 0.7520 - val_acc: 0.8529\n",
      "Epoch 20/20\n",
      "15000/15000 [==============================] - 4s 251us/step - loss: 0.0086 - acc: 0.9985 - val_loss: 0.6969 - val_acc: 0.8659\n"
     ]
    }
   ],
   "source": [
    "history = model.fit(partial_x_train,\n",
    "                    partial_y_train,\n",
    "                    epochs=20,\n",
    "                   batch_size=512,\n",
    "                   validation_data=(x_val, y_val))"
   ]
  },
  {
   "cell_type": "markdown",
   "metadata": {},
   "source": [
    "아래의 그림을 보면, 훈련시킨 데이터로는 loss가 줄어들지만, 훈련 데이터와 관계 없는 validation 데이터로는 loss가 늘어남. 때문에 잘못 설계함을 알 수 있음. 에포크가 커서 문제가 생긴 것 같음"
   ]
  },
  {
   "cell_type": "code",
   "execution_count": 9,
   "metadata": {},
   "outputs": [
    {
     "data": {
      "image/png": "[encoded data removed]",
      "text/plain": [
       "<Figure size 432x288 with 1 Axes>"
      ]
     },
     "metadata": {
      "needs_background": "light"
     },
     "output_type": "display_data"
    }
   ],
   "source": [
    "import matplotlib.pyplot as plt\n",
    "\n",
    "history_dict = history.history\n",
    "loss = history_dict['loss']\n",
    "val_loss = history_dict['val_loss']\n",
    "\n",
    "epochs = range(1, len(loss) + 1)\n",
    "\n",
    "plt.plot(epochs, loss, 'bo', label='Training loss')\n",
    "plt.plot(epochs, val_loss, 'b', label='Validation loss')\n",
    "plt.title('Training and validation loss')\n",
    "plt.xlabel('Epochs')\n",
    "plt.ylabel('Loss')\n",
    "plt.legend()\n",
    "plt.show()"
   ]
  },
  {
   "cell_type": "markdown",
   "metadata": {},
   "source": [
    "정확도 부분에 있어도 위와 같다."
   ]
  },
  {
   "cell_type": "code",
   "execution_count": 8,
   "metadata": {},
   "outputs": [
    {
     "data": {
      "image/png": "[encoded data removed]",
      "text/plain": [
       "<Figure size 432x288 with 1 Axes>"
      ]
     },
     "metadata": {
      "needs_background": "light"
     },
     "output_type": "display_data"
    }
   ],
   "source": [
    "plt.clf()\n",
    "acc = history_dict['acc']\n",
    "val_acc = history_dict['val_acc']\n",
    "\n",
    "plt.plot(epochs, acc, 'bo', label='Training acc')\n",
    "plt.plot(epochs, val_acc, 'b', label='Validation acc')\n",
    "plt.title('Training and validation accuracy')\n",
    "plt.xlabel('Epochs')\n",
    "plt.ylabel('Accuracy')\n",
    "plt.legend()\n",
    "\n",
    "plt.show()"
   ]
  },
  {
   "cell_type": "markdown",
   "metadata": {},
   "source": [
    "epochs를 4로 줄여 다시 훈련을 해보았음"
   ]
  },
  {
   "cell_type": "code",
   "execution_count": 8,
   "metadata": {},
   "outputs": [
    {
     "name": "stdout",
     "output_type": "stream",
     "text": [
      "WARNING:tensorflow:From C:\\Users\\qudwn\\Anaconda3\\lib\\site-packages\\tensorflow\\python\\framework\\op_def_library.py:263: colocate_with (from tensorflow.python.framework.ops) is deprecated and will be removed in a future version.\n",
      "Instructions for updating:\n",
      "Colocations handled automatically by placer.\n",
      "WARNING:tensorflow:From C:\\Users\\qudwn\\Anaconda3\\lib\\site-packages\\tensorflow\\python\\ops\\math_ops.py:3066: to_int32 (from tensorflow.python.ops.math_ops) is deprecated and will be removed in a future version.\n",
      "Instructions for updating:\n",
      "Use tf.cast instead.\n",
      "Epoch 1/4\n",
      "25000/25000 [==============================] - 9s 348us/step - loss: 0.4484 - acc: 0.8176\n",
      "Epoch 2/4\n",
      "25000/25000 [==============================] - 4s 143us/step - loss: 0.2547 - acc: 0.9098\n",
      "Epoch 3/4\n",
      "25000/25000 [==============================] - 3s 140us/step - loss: 0.1967 - acc: 0.9298\n",
      "Epoch 4/4\n",
      "25000/25000 [==============================] - 4s 146us/step - loss: 0.1668 - acc: 0.9412\n",
      "25000/25000 [==============================] - 9s 342us/step\n"
     ]
    }
   ],
   "source": [
    "from keras import models\n",
    "from keras import layers\n",
    "\n",
    "model = models.Sequential()\n",
    "model.add(layers.Dense(16, activation='relu', input_shape=(10000,)))\n",
    "model.add(layers.Dense(16, activation='relu'))\n",
    "model.add(layers.Dense(1, activation='sigmoid'))\n",
    "\n",
    "model.compile(optimizer='rmsprop',\n",
    "             loss='binary_crossentropy',\n",
    "             metrics=['accuracy'])\n",
    "\n",
    "model.fit(x_train, y_train, epochs=4, batch_size=512)\n",
    "results = model.evaluate(x_test, y_test)"
   ]
  },
  {
   "cell_type": "code",
   "execution_count": 10,
   "metadata": {},
   "outputs": [
    {
     "data": {
      "text/plain": [
       "[0.2951338653182983, 0.88352]"
      ]
     },
     "execution_count": 10,
     "metadata": {},
     "output_type": "execute_result"
    }
   ],
   "source": [
    "results"
   ]
  },
  {
   "cell_type": "code",
   "execution_count": 9,
   "metadata": {},
   "outputs": [
    {
     "data": {
      "text/plain": [
       "array([[0.22739214],\n",
       "       [0.9997132 ],\n",
       "       [0.82621163],\n",
       "       ...,\n",
       "       [0.19360486],\n",
       "       [0.06373587],\n",
       "       [0.580737  ]], dtype=float32)"
      ]
     },
     "execution_count": 9,
     "metadata": {},
     "output_type": "execute_result"
    }
   ],
   "source": [
    "model.predict(x_test)"
   ]
  }
 ],
 "metadata": {
  "kernelspec": {
   "display_name": "Python 3",
   "language": "python",
   "name": "python3"
  },
  "language_info": {
   "codemirror_mode": {
    "name": "ipython",
    "version": 3
   },
   "file_extension": ".py",
   "mimetype": "text/x-python",
   "name": "python",
   "nbconvert_exporter": "python",
   "pygments_lexer": "ipython3",
   "version": "3.7.3"
  }
 },
 "nbformat": 4,
 "nbformat_minor": 2
}
